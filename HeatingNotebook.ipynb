{
    "cells": [
        {
            "cell_type": "markdown",
            "metadata": {},
            "source": [
                "# Neds Heating Projections\n",
                "\n",
                "## What is this?\n",
                "This is a notebook containing calculated heating needs and costs for the Neds Housing Cooperative. The purpose of this document and the accompanying code files is to allow us to be as accurate and well informed as possible when making decisions about how to heat our home. This will serve two main functions:\n",
                "\n",
                "- T4 can use it to build their recommendations and models\n",
                "- Neds can use it to model running costs of different heating systems\n",
                "  \n",
                "Using a computational document like this has a couple of advantages; for example, we can update some particular values about the house, or generate projections, without much work at all. The drawbacks are that it is less user accessible than other options. I've tried to split functionality so that anyone can use / read this document, but also that it's easy to adjust the projections and numbers etc. \n",
                "\n",
                "For the technical reader, please feel free to contact me. If you do want to edit the code, or try some different numbers -- feel free. Any changes made (on the 'Binder site') will not be stored. If you'd like to edit the code permenantly I can add you to the GitHub. If that's not your cup of tea but there's something missing or something you'd like to see changed, just email me. \n",
                "\n",
                "\n",
                "## Disclaimers on calculations\n",
                "\n",
                "1. The measurements for the house dimensions ought to be accurate, but if something looks off let me know - I might have made mistakes. \n",
                "2. The window areas here aren't measured, they're estimated. This could be updated. \n",
                "3. The U values used throughout ought to be accurate, they're based on the materials datasheets and Tim's calculations. \n",
                "4. The ACH number is the main approximation and is probably not correct. You can edit this number in the `U_values.py` file. \n",
                "5. This should be seen not as a finished report but as a template usage for a tool which I hope will be useful to Neds in the longer term.\n",
                "6. The calculations here do not include:\n",
                "   - Pat's room\n",
                "   - The flat\n",
                "   - The factory \n",
                "\n",
                "## Formulae Used\n",
                "The heat loss for each room is calculated by taking the $U$ values for the materials and the areas of those materials facing the outside world. So for example, I've not included any heat losses through internal walls, or through floors other than the ground floor, or ceilings other than the top floor. This gives a more accurate picture for the house overall, but means that each individual room will have a value which sounds too low. \n",
                "\n",
                "I've included a fixed heat-loss rate for chimneys and vents. I don't know if my values for these are accurate. \n",
                "\n",
                "For heat loss through air change, I've used $Q = V \\times n / 3$, where $Q, V, n$ are the heat loss, volume, and air change rate respectively. \n",
                "\n",
                "One of the main limitations to this model is that I don't know how to accurately model the air change rate. From a bit of Googling, I've fixed on 3.0. Apparently a typical house has a value between 1 and 2, and a new build can have a value of 0.6. A very 'very draughty' house can have a value of 4. \n",
                "\n",
                "\n",
                "> T4, Please feel free to update this value in particular. \n",
                "\n",
                "\n",
                "## Current Situation\n",
                "Here is a list of the current estimated heat loss values for all rooms, in units of $J / (s K)$"
            ]
        },
        {
            "cell_type": "code",
            "execution_count": 10,
            "metadata": {},
            "outputs": [
                {
                    "name": "stdout",
                    "output_type": "stream",
                    "text": [
                        "A total of 1528.85 J / (K*s) for the house.\n",
                        "\n",
                        "So, when it's 0 C outside, and we want it to be 18C inside, currently we would be looking total heating need of 27519.21 W  \n",
                        "\n",
                        "Room by room this breaks down as:\n",
                        "\n",
                        "\n",
                        "Dan needs 178.43 J / (K*s)\n",
                        "Jen needs 93.98 J / (K*s)\n",
                        "Bryony needs 96.53 J / (K*s)\n",
                        "Sophie needs 55.80 J / (K*s)\n",
                        "Sarah Lloyd needs 72.30 J / (K*s)\n",
                        "Tim needs 67.21 J / (K*s)\n",
                        "Nels needs 53.17 J / (K*s)\n",
                        "Downstairs Kitchen needs 201.66 J / (K*s)\n",
                        "Upstairs Kitchen needs 205.76 J / (K*s)\n",
                        "House Living Room needs 170.47 J / (K*s)\n",
                        "Downstairs Hall needs 51.32 J / (K*s)\n",
                        "Upstairs Hall needs 61.84 J / (K*s)\n",
                        "Downstairs Bathroom needs 131.90 J / (K*s)\n",
                        "Landing Toilet needs 40.95 J / (K*s)\n",
                        "Downstairs Lobby needs 47.53 J / (K*s)\n",
                        "\n"
                    ]
                }
            ],
            "source": [
                "from main import *\n",
                "print_report(HouseList)"
            ]
        },
        {
            "cell_type": "markdown",
            "metadata": {},
            "source": [
                "## When Everything Is Insulated\n",
                "Next we'll look at the scenario in which we've insulated everything -- so, the longer term goal for the building. I've also set the air change rate to 2 for this model, which assumes that we'll do some draughtproofing. "
            ]
        },
        {
            "cell_type": "code",
            "execution_count": 11,
            "metadata": {},
            "outputs": [
                {
                    "name": "stdout",
                    "output_type": "stream",
                    "text": [
                        "A total of 953.95 J / (K*s) for the house.\n",
                        "\n",
                        "So, when it's 0 C outside, and we want it to be 18C inside, currently we would be looking total heating need of 17171.05 W  \n",
                        "\n",
                        "Room by room this breaks down as:\n",
                        "\n",
                        "\n",
                        "Dan needs 82.12 J / (K*s)\n",
                        "Jen needs 70.67 J / (K*s)\n",
                        "Bryony needs 54.64 J / (K*s)\n",
                        "Sophie needs 38.01 J / (K*s)\n",
                        "Sarah Lloyd needs 51.78 J / (K*s)\n",
                        "Tim needs 49.66 J / (K*s)\n",
                        "Nels needs 39.62 J / (K*s)\n",
                        "Downstairs Kitchen needs 147.48 J / (K*s)\n",
                        "Upstairs Kitchen needs 137.29 J / (K*s)\n",
                        "House Living Room needs 76.25 J / (K*s)\n",
                        "Downstairs Hall needs 26.61 J / (K*s)\n",
                        "Upstairs Hall needs 33.00 J / (K*s)\n",
                        "Downstairs Bathroom needs 117.64 J / (K*s)\n",
                        "Landing Toilet needs 13.83 J / (K*s)\n",
                        "Downstairs Lobby needs 15.35 J / (K*s)\n",
                        "\n"
                    ]
                }
            ],
            "source": [
                "insulated_house = Insulate_roomlist(HouseList)\n",
                "print_report(insulated_house)"
            ]
        },
        {
            "cell_type": "markdown",
            "metadata": {},
            "source": [
                "# Flat Calculations\n",
                "\n",
                "Next we can look at the heating needs for the flat. This does not incluide a projection about the flat's current heating needs -- we're only modelling the flat with the parameters which Tim has provided. These include accurate measurements and info about the insulation material which we were expecting to be put on the flat. That said, we might end up pulling out of our deal with the company contracted to implement that insulation (long story). So these numbers might fluctuate a bit depending upon what insulation is finally installed. \n",
                "\n",
                "As with the calculations for the main house, the largest room for error comes from me estimating the ACH for the flat. I'm putting it at 1.5 by default, but as I say please feel free to experiment. "
            ]
        },
        {
            "cell_type": "code",
            "execution_count": 12,
            "metadata": {},
            "outputs": [
                {
                    "name": "stdout",
                    "output_type": "stream",
                    "text": [
                        "A total of 254.07 J / (K*s) for the house.\n",
                        "\n",
                        "So, when it's 0 C outside, and we want it to be 18C inside, currently we would be looking total heating need of 4573.28 W  \n",
                        "\n",
                        "Room by room this breaks down as:\n",
                        "\n",
                        "\n",
                        "Flat Large Bedroom needs 27.28 J / (K*s)\n",
                        "Flat Bathroom needs 112.84 J / (K*s)\n",
                        "Flat Main Room needs 96.24 J / (K*s)\n",
                        "Flat Small Bedroom needs 17.71 J / (K*s)\n",
                        "\n"
                    ]
                }
            ],
            "source": [
                "print_report(FlatList)"
            ]
        },
        {
            "cell_type": "markdown",
            "metadata": {},
            "source": [
                "# Outlook\n",
                "These calculations are easy to update with new information, or to expand to account for more. I've not included any calculations about usage here, though I did start to work on some ways of calculating that. As a result, I haven't included any forecasts of projected costs. "
            ]
        }
    ],
    "metadata": {
        "interpreter": {
            "hash": "d83382ea10adeb4ec19bdc0cca4a6b9b30c8fc285f8f1337341ee1f40959fc32"
        },
        "kernelspec": {
            "display_name": "Python 3.9.7 64-bit ('.venv': venv)",
            "name": "python3"
        },
        "language_info": {
            "codemirror_mode": {
                "name": "ipython",
                "version": 3
            },
            "file_extension": ".py",
            "mimetype": "text/x-python",
            "name": "python",
            "nbconvert_exporter": "python",
            "pygments_lexer": "ipython3",
            "version": "3.9.9"
        },
        "orig_nbformat": 4
    },
    "nbformat": 4,
    "nbformat_minor": 2
}
