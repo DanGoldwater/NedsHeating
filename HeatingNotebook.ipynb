{
    "cells": [
        {
            "cell_type": "markdown",
            "source": [
                "# Neds Heating Projections\r\n",
                "\r\n",
                "## What is this?\r\n",
                "This is a notebook containing calculated heating needs and costs for the Neds Housing Cooperative. The purpose of this document and the accompanying code files is to allow us to be as accurate and well informed as possible when making decisions about how to heat our home. This will serve two main functions:\r\n",
                "\r\n",
                "- T4 can use it to build their recommendations and models\r\n",
                "- Neds can use it to model running costs of different heating systems\r\n",
                "  \r\n",
                "Using a computational document like this has a couple of advantages; for example, we can update some particular values about the house, or generate projections, without much work at all. The drawbacks are that it is less user accessible than other options. I've tried to split functionality so that anyone can use / read this document, but also that it's easy to adjust the projections and numbers etc. \r\n",
                "\r\n",
                "For the technical reader, please feel free to contact me. If you do want to edit the code, or try some different numbers -- feel free. Any changes made (on the 'Binder site') will not be stored. If you'd like to edit the code permenantly I can add you to the GitHub. \r\n",
                "\r\n",
                "<!-- We review the heating needs [here](#current-situation)\r\n",
                "## Table of Contents\r\n",
                "- [What is this?](#what-is-this)\r\n",
                "- [Disclaimers on calculations](#disclaimers-on-calculations)\r\n",
                "- [Current Situation](#current-situation)\r\n",
                "  - [Flat](#flat) -->\r\n",
                "## Disclaimers on calculations\r\n",
                "\r\n",
                "1. The measurements for the house dimensions ought to be accurate, but if something looks off let me know - I might have made mistakes. \r\n",
                "2. The window areas here aren't measured, they're estimated. This could be updated. \r\n",
                "3. The U values used throughout ought to be accurate, they're based on the materials datasheets and Tim's calculations. \r\n",
                "4. The ACH number is the main approximation and is probably not correct. You can edit this number in the `U_values.py` file. \r\n",
                "5. This should be seen not as a finished report but as a template usage for a tool which I hope will be useful to Neds in the longer term.\r\n",
                "6. The calculations here do not include:\r\n",
                "   - Pat's room\r\n",
                "   - The flat\r\n",
                "   - The factory \r\n",
                "\r\n",
                "## Formulae Used\r\n",
                "The heat loss for each room is calculated by taking the $U$ values for the materials and the areas of those materials facing the outside world. So for example, I've not included any heat losses through internal walls, or through floors other than the ground floor, or ceilings other than the top floor. This gives a more accurate picture for the house overall, but means that each individual room will have a value which sounds too low. \r\n",
                "\r\n",
                "I've included a fixed heat-loss rate for chimneys and vents. I don't know if my values for these are accurate. \r\n",
                "\r\n",
                "For heat loss through air change, I've used $Q = V \\times n / 3$, where $Q, V, n$ are the heat loss, volume, and air change rate respectively. \r\n",
                "\r\n",
                "One of the main limitations to this model is that I don't know how to accurately model the air change rate. From a bit of Googling, I've fixed on 3.0. Apparently a typical house has a value between 1 and 2, and a new build can have a value of 0.6. A very 'very draughty' house can have a value of 4. \r\n",
                "\r\n",
                "\r\n",
                "> T4, Please feel free to update this value in particular. \r\n",
                "\r\n",
                "\r\n",
                "## Current Situation\r\n",
                "Here is a list of the current estimated heat loss values for all rooms, in units of $J / (s K)$"
            ],
            "metadata": {}
        },
        {
            "cell_type": "code",
            "execution_count": 1,
            "source": [
                "from main import *\r\n",
                "[h.print_heat_needs() for h in HouseList]\r\n",
                "print(f'\\n\\nThis makes for a total heating need of {HouseHeat:.2f} J / (K*s) for the house.\\n')\r\n",
                "print(f'So, when it\\'s 0 C outside, and we want it to be 18C inside, currently we need a total heating capacity of {18 * HouseHeat:.2f} W for the house ')"
            ],
            "outputs": [
                {
                    "output_type": "stream",
                    "name": "stdout",
                    "text": [
                        "Dan needs 125.42 J / (K*s)\n",
                        "Jen needs 93.98 J / (K*s)\n",
                        "Bryony needs 96.53 J / (K*s)\n",
                        "Sophie needs 50.28 J / (K*s)\n",
                        "Sarah Lloyd needs 72.30 J / (K*s)\n",
                        "Tim needs 64.71 J / (K*s)\n",
                        "Nels needs 51.23 J / (K*s)\n",
                        "Downstairs Kitchen needs 160.93 J / (K*s)\n",
                        "Upstairs Kitchen needs 168.83 J / (K*s)\n",
                        "House Living Room needs 118.57 J / (K*s)\n",
                        "Downstairs Hall needs 36.82 J / (K*s)\n",
                        "Upstairs Hall needs 46.72 J / (K*s)\n",
                        "Downstairs Bathroom needs 123.80 J / (K*s)\n",
                        "Landing Toilet needs 17.51 J / (K*s)\n",
                        "Downstairs Lobby needs 19.18 J / (K*s)\n",
                        "\n",
                        "\n",
                        "This makes for a total heating need of 1528.85 J / (K*s) for the house.\n",
                        "\n",
                        "So, when it's 0 C outside, and we want it to be 18C inside, currently we need a total heating capacity of 27519.21 W for the house \n"
                    ]
                }
            ],
            "metadata": {}
        },
        {
            "cell_type": "markdown",
            "source": [
                "## When Everything Is Insulated\r\n",
                "Next we'll look at the scenario in which we've insulated everything -- so, the longer term goal for the building. I've also set the air change rate to 2 for this model, which assumes that we'll do some draughtproofing. "
            ],
            "metadata": {}
        },
        {
            "cell_type": "code",
            "execution_count": 2,
            "source": [
                "\r\n",
                "from main import *\r\n",
                "\r\n",
                "print('So, with an insulated house, we would need:\\n')\r\n",
                "print(f'A total of {HouseHeatFinished:.2f} J / (K*s) for the house.\\n')\r\n",
                "print(f'So, when it\\'s 0 C outside, and we want it to be 18C inside, currently we would be looking total heating need of {18 * HouseHeatFinished:.2f} W for the house \\n')\r\n",
                "print(f'Room by room this breaks down as:\\n\\n')\r\n",
                "[h.print_heat_needs() for h in Finished_House_List]\r\n",
                "print('')"
            ],
            "outputs": [
                {
                    "output_type": "stream",
                    "name": "stdout",
                    "text": [
                        "So, with an insulated house, we would need:\n",
                        "\n",
                        "A total of 947.44 J / (K*s) for the house.\n",
                        "\n",
                        "So, when it's 0 C outside, and we want it to be 18C inside, currently we would be looking total heating need of 17053.87 W for the house \n",
                        "\n",
                        "Room by room this breaks down as:\n",
                        "\n",
                        "\n",
                        "Dan needs 82.12 J / (K*s)\n",
                        "Jen needs 70.67 J / (K*s)\n",
                        "Bryony needs 54.64 J / (K*s)\n",
                        "Sophie needs 38.01 J / (K*s)\n",
                        "Sarah Lloyd needs 51.78 J / (K*s)\n",
                        "Tim needs 49.66 J / (K*s)\n",
                        "Nels needs 39.62 J / (K*s)\n",
                        "Downstairs Kitchen needs 140.97 J / (K*s)\n",
                        "Upstairs Kitchen needs 137.29 J / (K*s)\n",
                        "House Living Room needs 76.25 J / (K*s)\n",
                        "Downstairs Hall needs 26.61 J / (K*s)\n",
                        "Upstairs Hall needs 33.00 J / (K*s)\n",
                        "Downstairs Bathroom needs 117.64 J / (K*s)\n",
                        "Landing Toilet needs 13.83 J / (K*s)\n",
                        "Downstairs Lobby needs 15.35 J / (K*s)\n",
                        "\n"
                    ]
                }
            ],
            "metadata": {}
        },
        {
            "cell_type": "markdown",
            "source": [
                "# Outlook\r\n",
                "These calculations are easy to update with new information, or to expand to account for more. I've not included any calculations about usage here, though I did start to work on some ways of calculating that. As a result, I haven't included any forecasts of projected costs. "
            ],
            "metadata": {}
        },
        {
            "cell_type": "markdown",
            "source": [
                "# Predicted Heating Bill\r\n",
                "## NOTE: This part is not fully developed, and I've put it on hiatus because it might not actually be useful. \r\n",
                "We can  gather weather information and use it to calculate what the expected demand would be for the house and flat. This might not compare particularly well with our actual bills and usage, for two reasons. The first is that we might have innaccurate models of $U$ values and measurements etc, but moreimportantly I think we might struggle to accurately model how much people heat their rooms, and to what temperatures. The below calculations, then, should be seen as guidelines for what we would expect to pay to heat the house in a particular way, rather than a re-creation of how we might have heated it in the past. The prices for heating the flat and house are listed below, using different electricity tariff models and temperature data from different years. "
            ],
            "metadata": {}
        },
        {
            "cell_type": "code",
            "execution_count": 3,
            "source": [
                "price_2018 = yearly_cost(2018, HouseList, .18)\r\n",
                "print(f'To heat the house in 2018 would cost £{price_2018:.2f}')\r\n",
                "print(f'or, {price_2018 / (10 * 12)}:.2f each per month')"
            ],
            "outputs": [
                {
                    "output_type": "stream",
                    "name": "stdout",
                    "text": [
                        "To heat the house in 2018 would cost £13951.20\n",
                        "or, 116.25996741926399:.2f each per month\n"
                    ]
                }
            ],
            "metadata": {}
        }
    ],
    "metadata": {
        "orig_nbformat": 4,
        "language_info": {
            "name": "python",
            "version": "3.9.7",
            "mimetype": "text/x-python",
            "codemirror_mode": {
                "name": "ipython",
                "version": 3
            },
            "pygments_lexer": "ipython3",
            "nbconvert_exporter": "python",
            "file_extension": ".py"
        },
        "kernelspec": {
            "name": "python3",
            "display_name": "Python 3.9.7 64-bit ('.venv': venv)"
        },
        "interpreter": {
            "hash": "d83382ea10adeb4ec19bdc0cca4a6b9b30c8fc285f8f1337341ee1f40959fc32"
        }
    },
    "nbformat": 4,
    "nbformat_minor": 2
}