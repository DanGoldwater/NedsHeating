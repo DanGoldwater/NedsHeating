{
    "cells": [
        {
            "cell_type": "markdown",
            "source": [
                "# Neds Heating Projections\r\n",
                "\r\n",
                "## Overview\r\n",
                "This is a notebook containing calculated heating needs and costs for the Neds Housing Cooperative. The purpose of this document and the accompanying code files is to allow us to be as accurate and well informed as possible when making decisions about how to heat our home. This includes giving us the option to model different scenarios in the future down to fine, granular detail. For example, we want to be able to model scenarios in which some people are working from home, and need their rooms at $20 C$ during the day. Or, we want to be able to work out how much we'd pay if we have a heating pump in the main house, but haven't finished insulating. \r\n",
                "\r\n",
                "I've built up this as a fairly simple, but hopefully comprehensive toolkit. It's structured such that this document ought to be readable by anyone. All of the main code used for calculations is in `main.py`, and I've tried to comment these things. The functions for getting weather data are stored in `weather.py` but, as I say, probably no one needs to inspect that. \r\n",
                "We review the heating needs [here](#current-situation)\r\n",
                "\r\n",
                "## Disclaimers on calculations\r\n",
                "1. First is that I don't know how to model the heat loss due to vents. This is easily amended, but currently they're included as fixed offsets.\r\n",
                "2. The U values for the house building materials are not accurate. These are sourced from generic online sources, and ought to be *roughly* correct, but they're not from the datasheets of our actual materials (as opposed to the $U$ values for the flat, which I believe are correct. )\r\n",
                "3. The measurements for the house are also estimates, but these are less likely to be accurate. The flat measurements are actual measurements however.\r\n",
                "4. While this outputs a pdf, there's nothing difficult about updating some of the values and making things more accurate. This should be seen not as a finished report but as a template usage for a tool which I hope will be useful to Neds in the longer term. \r\n",
                "\r\n",
                "## Current Situation\r\n",
                "Here is a list of the current estimated heat loss values for all rooms, in units of $J / (s K)$\r\n",
                "\r\n",
                "### Flat\r\n",
                "\r\n",
                "\r\n"
            ],
            "metadata": {}
        },
        {
            "cell_type": "code",
            "execution_count": 37,
            "source": [
                "from main import *\r\n",
                "[h.print_heat_needs() for h in FlatList]"
            ],
            "outputs": [
                {
                    "output_type": "stream",
                    "name": "stdout",
                    "text": [
                        "Flat Large Bedroom needs 214.13 J / (K*s)\n",
                        "Flat Bathroom needs 208.16 J / (K*s)\n",
                        "Flat Main Room needs 49.44 J / (K*s)\n",
                        "Flat Small Bedroom needs 212.07 J / (K*s)\n"
                    ]
                },
                {
                    "output_type": "execute_result",
                    "data": {
                        "text/plain": [
                            "[None, None, None, None]"
                        ]
                    },
                    "metadata": {},
                    "execution_count": 37
                }
            ],
            "metadata": {}
        },
        {
            "cell_type": "markdown",
            "source": [
                "### House"
            ],
            "metadata": {}
        },
        {
            "cell_type": "code",
            "execution_count": 41,
            "source": [
                "\r\n",
                "\r\n",
                "[h.print_heat_needs() for h in HouseList]\r\n",
                "print(f'So, when it\\'s 0 C outside, and we want it to be 18C inside, currently we need a total heating capacity of {18 * HouseHeat:.2f} W for the house ')\r\n",
                "print(f'Similarly, we would need  {18 * FlatHeat:.2f} W for the flat. ')"
            ],
            "outputs": [
                {
                    "output_type": "stream",
                    "name": "stdout",
                    "text": [
                        "Dan needs 82.61 J / (K*s)\n",
                        "Jen needs 32.23 J / (K*s)\n",
                        "Bryony needs 8.82 J / (K*s)\n",
                        "Sophie needs 14.34 J / (K*s)\n",
                        "Sarah Lloyd needs 8.82 J / (K*s)\n",
                        "Tim needs 19.40 J / (K*s)\n",
                        "Nels needs 19.40 J / (K*s)\n",
                        "Downstairs Kitchen needs 43.14 J / (K*s)\n",
                        "Upstairs Kitchen needs 11.82 J / (K*s)\n",
                        "House Living Room needs 79.21 J / (K*s)\n",
                        "Downstairs Hall needs 22.80 J / (K*s)\n",
                        "Upstairs Hall needs 5.80 J / (K*s)\n",
                        "Downstairs Bathroom needs 211.00 J / (K*s)\n",
                        "So, when it's 0 C outside, and we want it to be 18C inside, currently we need a total heating capacity of 10069.02 for the house \n",
                        "Similarly, we would need  12308.21 for the flat. \n"
                    ]
                }
            ],
            "metadata": {}
        },
        {
            "cell_type": "markdown",
            "source": [
                "# Predicted Heating Bill\r\n",
                "We can use gather weather information and use it to calculate what the expected demand would be for the house and flat. This might not compare particularly well with our actual bills and usage, for two reasons. The first is that we might have innaccurate models of $U$ values and measurements etc, but moreimportantly I think we might struggle to accurately model how much people heat their rooms, and to what temperatures. The below calculations, then, should be seen as guidelines for what we would expect to pay to heat the house in a particular way, rather than a re-creation of how we might have heated it in the past. The prices for heating the flat and house are listed below, using different electricity tariff models and temperature data from different years. "
            ],
            "metadata": {}
        },
        {
            "cell_type": "code",
            "execution_count": 48,
            "source": [
                "price_2018 = yearly_cost(2018, HouseList, .18)\r\n",
                "print(f'To heat the house in 2018 would cost £{price_2018:.2f}')\r\n",
                "print(f'or, {price_2018 / (10 * 12)}:.2f each per month')"
            ],
            "outputs": [
                {
                    "output_type": "stream",
                    "name": "stdout",
                    "text": [
                        "To heat the house in 2018 would cost £6259.39\n",
                        "or, 52.16155120799999:.2f each per month\n"
                    ]
                }
            ],
            "metadata": {}
        }
    ],
    "metadata": {
        "orig_nbformat": 4,
        "language_info": {
            "name": "python",
            "version": "3.9.7",
            "mimetype": "text/x-python",
            "codemirror_mode": {
                "name": "ipython",
                "version": 3
            },
            "pygments_lexer": "ipython3",
            "nbconvert_exporter": "python",
            "file_extension": ".py"
        },
        "kernelspec": {
            "name": "python3",
            "display_name": "Python 3.9.7 64-bit ('.venv': venv)"
        },
        "interpreter": {
            "hash": "d83382ea10adeb4ec19bdc0cca4a6b9b30c8fc285f8f1337341ee1f40959fc32"
        }
    },
    "nbformat": 4,
    "nbformat_minor": 2
}