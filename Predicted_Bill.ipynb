{
 "cells": [
  {
   "cell_type": "markdown",
   "source": [
    "# Predicted Heating Bill\r\n",
    "## NOTE: This part is not fully developed, and I've put it on hiatus because it might not actually be useful. \r\n",
    "We can  gather weather information and use it to calculate what the expected demand would be for the house and flat. This might not compare particularly well with our actual bills and usage, for two reasons. The first is that we might have innaccurate models of $U$ values and measurements etc, but moreimportantly I think we might struggle to accurately model how much people heat their rooms, and to what temperatures. The below calculations, then, should be seen as guidelines for what we would expect to pay to heat the house in a particular way, rather than a re-creation of how we might have heated it in the past. The prices for heating the flat and house are listed below, using different electricity tariff models and temperature data from different years. "
   ],
   "metadata": {}
  },
  {
   "cell_type": "code",
   "execution_count": null,
   "source": [
    "price_2018 = yearly_cost(2018, HouseList, .18)\r\n",
    "print(f'To heat the house in 2018 would cost £{price_2018:.2f}')\r\n",
    "print(f'or, {price_2018 / (10 * 12)}:.2f each per month')"
   ],
   "outputs": [
    {
     "output_type": "stream",
     "name": "stdout",
     "text": [
      "To heat the house in 2018 would cost £13951.20\n",
      "or, 116.25996741926399:.2f each per month\n"
     ]
    }
   ],
   "metadata": {}
  }
 ],
 "metadata": {
  "orig_nbformat": 4,
  "language_info": {
   "name": "python"
  }
 },
 "nbformat": 4,
 "nbformat_minor": 2
}