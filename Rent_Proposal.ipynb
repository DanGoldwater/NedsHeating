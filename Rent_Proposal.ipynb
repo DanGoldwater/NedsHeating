{
    "cells": [
        {
            "cell_type": "markdown",
            "metadata": {},
            "source": [
                "# Neds Rent Calculations and Projections\n",
                "\n",
                "## Current Scenario\n",
                "\n",
                "The current formula we have is as follows:\n",
                "> Base level rent is £46 per week. Members pay an extra £1 per week in rent for every £3,000 earned in a year over £14,200 after tax Members shall pay an extra £1 a week in rent when their level of savings, investments and/or property exceed £14,200, plus an additional £1 per week for each additional £3,000 thereafter. This figure should be revised each year based on the following formula: Annual income based on working 35 hours a week at the national living wage (recommended by the Living Wage Foundation) minus tax paid based on the current personal tax allowance."
            ]
        },
        {
            "cell_type": "markdown",
            "metadata": {},
            "source": [
                "As a reference, here are the local housing assistance rates for Nottingham\n",
                "\n",
                "![image](img/lha_rates.png)"
            ]
        },
        {
            "cell_type": "markdown",
            "metadata": {},
            "source": [
                "Median rent for a five bedroom house in Nottingham is £2,210 pcm. Put another way; a good reference for us is that most people in Nottingham sharing large houses are paying about £450 pcm, not including bills. "
            ]
        },
        {
            "cell_type": "code",
            "execution_count": 1,
            "metadata": {},
            "outputs": [
                {
                    "ename": "IndentationError",
                    "evalue": "expected an indented block (House_Rent.py, line 86)",
                    "output_type": "error",
                    "traceback": [
                        "Traceback \u001b[1;36m(most recent call last)\u001b[0m:\n",
                        "  File \u001b[0;32m\"c:\\Users\\Dan Goldwater\\Google Drive\\Python_Projects\\Heating\\.venv\\lib\\site-packages\\IPython\\core\\interactiveshell.py\"\u001b[0m, line \u001b[0;32m3441\u001b[0m, in \u001b[0;35mrun_code\u001b[0m\n    exec(code_obj, self.user_global_ns, self.user_ns)\n",
                        "\u001b[1;36m  File \u001b[1;32m\"C:\\Users\\DANGOL~1\\AppData\\Local\\Temp/ipykernel_11348/237487003.py\"\u001b[1;36m, line \u001b[1;32m1\u001b[1;36m, in \u001b[1;35m<module>\u001b[1;36m\u001b[0m\n\u001b[1;33m    from House_Rent import *\u001b[0m\n",
                        "\u001b[1;36m  File \u001b[1;32m\"c:\\Users\\Dan Goldwater\\Google Drive\\Python_Projects\\Heating\\House_Rent.py\"\u001b[1;36m, line \u001b[1;32m86\u001b[0m\n\u001b[1;33m    def get_rent(self, housemate):\u001b[0m\n\u001b[1;37m    ^\u001b[0m\n\u001b[1;31mIndentationError\u001b[0m\u001b[1;31m:\u001b[0m expected an indented block\n"
                    ]
                }
            ],
            "source": [
                "from House_Rent import *"
            ]
        },
        {
            "cell_type": "markdown",
            "metadata": {},
            "source": [
                "## Main Points\n",
                "The main things points I wanted to make are:\n",
                "- The maximum rent is too low\n",
                "- Our outgoings are not equitably scaled\n",
                "- Income is a meaningful limit on our building works\n",
                "- £10 per week in rent is a big difference if you're on a low income, but you might not even notice it on a high salary\n",
                "- We have a wide range of incomes, our outgoings should reflect this\n",
                "- Even our highest earners are paying roughly LHA levels\n",
                "- We can generate more income without raising minimum rent levels\n"
            ]
        },
        {
            "cell_type": "code",
            "execution_count": null,
            "metadata": {},
            "outputs": [],
            "source": [
                "\n",
                "# #Produce Plot of house rents currently\n",
                "np.set_printoptions(precision=2)\n",
                "%precision %.2f\n",
                "\n",
                "plt.rcParams['figure.figsize'] = (16, 8.0)\n",
                "# plot_scenario_rents(scenario_current, HouseMateList)\n",
                "print(f' Maximum rent level is {scenario_current.get_rent(H_Bezos):.1f}')\n",
                "print(f' Minimum rent level is {scenario_current.get_rent(H_Asisi):.1f}')\n",
                "print(f' Maximum outgoings per month are {scenario_current.get_rent(H_Bezos) + scenario_current.get_bills(H_Bezos):.1f}')\n",
                "print(f' Minimum outgoings per month are {scenario_current.get_rent(H_Asisi) + scenario_current.get_bills(H_Asisi):.1f}')\n",
                "print(f' This means that the current maximum ratio of rents is {scenario_current.get_rent(H_Bezos) / scenario_current.get_rent(H_Asisi) :.2f},\\n but the maximum ratio of outgoings is {scenario_current.get_total(H_Bezos) / scenario_current.get_total(H_Asisi) :.2f}')\n",
                "# outgoings_list = [scenario_current.get_total(h) for h in HouseMateList]\n",
                "rent_list_current = [scenario_current.get_rent(h) for h in HouseMateList]\n",
                "plt.bar(arange(len(HouseMateList)), sorted(rent_list_current))\n",
                "plt.xlabel('Housemate')\n",
                "plt.ylabel('Total outgoings per month')\n",
                "plt.title('Current rent levels, sorted')\n",
                "plt.show()"
            ]
        },
        {
            "cell_type": "code",
            "execution_count": null,
            "metadata": {},
            "outputs": [],
            "source": [
                "\n",
                "outgoings_list = [scenario_current.get_total(h) for h in HouseMateList]\n",
                "plt.bar(arange(len(HouseMateList)), sorted(outgoings_list))\n",
                "plt.xlabel('Housemate')\n",
                "plt.ylabel('Total outgoings per month')\n",
                "plt.title('Current outgoings (when we include bills), Sorted')"
            ]
        },
        {
            "cell_type": "markdown",
            "metadata": {},
            "source": [
                "Which doesn't look very scaled!"
            ]
        },
        {
            "cell_type": "code",
            "execution_count": null,
            "metadata": {},
            "outputs": [],
            "source": [
                "\n",
                "income_list = sorted([h.income for h in HouseMateList])\n",
                "plt.bar(arange(len(HouseMateList)), income_list)\n",
                "plt.xlabel('Housemate')\n",
                "plt.ylabel('Annual incomes (estimated)')\n",
                "plt.title('Current incomes (estimated), sorted')\n",
                "plt.show()"
            ]
        },
        {
            "cell_type": "code",
            "execution_count": null,
            "metadata": {},
            "outputs": [],
            "source": [
                "from House_Rent import *\n",
                "income_range = arange(10000, 50000, 10)\n",
                "scaling = 20\n",
                "\n",
                "\n",
                "rent_current_list = [rent_formula_current_form(1.5, scenario_current.income_threshold, scenario_current.base_rent, 0, xi, scenario_current.savings_threshold) for xi in income_range]\n",
                "rent_current_list = [x + scenario_current.bills_rule(scenario_current, H1) for x in rent_current_list]\n",
                "rent_proposal_1_list = make_scenario_plot_data(scenario_proposed)\n",
                "rent_proposal_2_list = make_scenario_plot_data(scenario_proposed_2)\n",
                "plt.plot(income_range, rent_current_list)\n",
                "plt.plot(income_range, rent_proposal_1_list)\n",
                "# plt.plot(income_range, rent_proposal_2_list)\n",
                "plt.ylim([0,500])\n",
                "plt.xlabel('Income')\n",
                "plt.ylabel('Monthly Outgoings')\n",
                "plt.legend(['Current', 'Proposal 1', 'Proposal 2'])\n",
                "plt.title('Total Outgoings as a function of salary (not including savings or fixed costs)')\n",
                "plt.savefig('Proposal_1_fullrange.pdf')\n",
                "plt.show()\n",
                "\n"
            ]
        },
        {
            "cell_type": "code",
            "execution_count": null,
            "metadata": {},
            "outputs": [],
            "source": [
                "current_income = get_house_income(HouseMateList, scenario_current)\n",
                "proposal_1_income = get_house_income(HouseMateList, scenario_proposed)\n",
                "proposal_2_income = get_house_income(HouseMateList, scenario_proposed_2)\n",
                "print(f'Current income is £{proposal_2_income:.2f}')\n",
                "print(f'Proposal 1 would yield an income of £{proposal_1_income:.2f}')\n",
                "print(f'Proposal 2 would yield an income of £{proposal_2_income:.2f}\\n\\n')\n",
                "print(f'For scenario 1, the maximum rent would be {scenario_proposed.get_rent(H_Bezos):.2f}')"
            ]
        },
        {
            "cell_type": "code",
            "execution_count": null,
            "metadata": {},
            "outputs": [],
            "source": [
                "from house_rent_functions import *\n",
                "\n",
                "scenario_1 = Scenario(\n",
                "    base_rent= 46,\n",
                "    bills=70,\n",
                "    cap_ratio=1.5,\n",
                "    income_threshold=14_200,\n",
                "    savings_threshold=14_200,\n",
                "    a=1,\n",
                "    b=.8,\n",
                "    c=1.3)\n",
                "df = make_df(scenario=scenario_1, housemate_list=list_of_housies)\n",
                "\n",
                "\n",
                "df.head()"
            ]
        }
    ],
    "metadata": {
        "kernelspec": {
            "display_name": "Python 3.9.13 ('.venv': venv)",
            "language": "python",
            "name": "python3"
        },
        "language_info": {
            "codemirror_mode": {
                "name": "ipython",
                "version": 3
            },
            "file_extension": ".py",
            "mimetype": "text/x-python",
            "name": "python",
            "nbconvert_exporter": "python",
            "pygments_lexer": "ipython3",
            "version": "3.9.13"
        },
        "orig_nbformat": 4,
        "vscode": {
            "interpreter": {
                "hash": "45da01ca95f83ff87c19cbf0288686f70db4d25aaefe905dd16f0e486059ae2c"
            }
        }
    },
    "nbformat": 4,
    "nbformat_minor": 2
}
