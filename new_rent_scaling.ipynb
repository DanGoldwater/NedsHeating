{
 "cells": [
  {
   "cell_type": "markdown",
   "metadata": {},
   "source": [
    "# Neds Rent Scaling\n",
    "\n",
    "## Current Scenario\n",
    "\n",
    "The current formula we have is as follows:\n",
    "> Base level rent is £46 per week. Members pay an extra £1 per week in rent for every £3,000 earned in a year over £14,200 after tax Members shall pay an extra £1 a week in rent when their level of savings, investments and/or property exceed £14,200, plus an additional £1 per week for each additional £3,000 thereafter. This figure should be revised each year based on the following formula: Annual income based on working 35 hours a week at the national living wage (recommended by the Living Wage Foundation) minus tax paid based on the current personal tax allowance.\n",
    "\n",
    "Suggest that we have the following problems:\n",
    "- Rent is not scaled 'fast' enough; higher contributions ought to kick in at a different rate for higher earners\n",
    "- Bills are not scaled currently. This is not equitable.\n",
    "\n",
    "## Proposal\n",
    "\n",
    "### Scale the rent differently:  \n",
    "- Low earners see no change in their rent payments\n",
    "- High earners pay more\n",
    "- Cap of 1.5 x stays in place\n",
    "- We have a discussion of what 'fixed costs' are\n",
    "- If all on low income, we still meet our mortgage needs (as is the case now)\n",
    "- If someone leaves, joins, increases or decreases their income; only *that* person needs to change their rent payments (as is the case now). \n",
    "- We accumulate more surplus\n",
    "\n",
    "### Scale the bills differently:\n",
    "- The total amount we pay, between us, stays the same.\n",
    "- We divide this amount up in a way which is *similar* to the way I am proposing we divide up the bills.\n",
    "- If someone leaves, joins, increases or decreases their income; other housemates *might* need to adjust their bills contributions. \n",
    "- High earning housemates would see their bills increase\n",
    "- Low earning housemates would see their bills *decrease*\n",
    "\n",
    "\n"
   ]
  },
  {
   "cell_type": "code",
   "execution_count": 117,
   "metadata": {},
   "outputs": [],
   "source": [
    "from house_rent_functions import *\n",
    "from scratch import *\n",
    "import matplotlib.pyplot as plt\n",
    "import seaborn\n",
    "import numpy as np\n"
   ]
  },
  {
   "cell_type": "code",
   "execution_count": 118,
   "metadata": {},
   "outputs": [
    {
     "name": "stdout",
     "output_type": "stream",
     "text": [
      "Blaine earns 30000, has 0 in savings, and fixed costs of 0\n",
      "Andy earns 27000, has 10000 in savings, and fixed costs of 0\n",
      "Leblanc earns 14000, has 0 in savings, and fixed costs of 0\n",
      "Freddie earns 14000, has 0 in savings, and fixed costs of 0\n",
      "Moses earns 14000, has 0 in savings, and fixed costs of 0\n",
      "Kenneth earns 14000, has 0 in savings, and fixed costs of 0\n",
      "Yaqub earns 41000, has 20000 in savings, and fixed costs of 0\n",
      "Sacha earns 46000, has 30000 in savings, and fixed costs of 0\n",
      "Drew earns 49000, has 20000 in savings, and fixed costs of 0\n",
      "Tyla earns 0, has 0 in savings, and fixed costs of 0\n",
      "\n",
      "\n",
      "\n",
      "\n",
      "Blaine would pay 59 on bills, and 233 on rent\n",
      "Andy would pay 59 on bills, and 227 on rent\n",
      "Leblanc would pay 58 on bills, and 204 on rent\n",
      "Freddie would pay 58 on bills, and 204 on rent\n",
      "Moses would pay 58 on bills, and 204 on rent\n",
      "Kenneth would pay 58 on bills, and 204 on rent\n",
      "Yaqub would pay 65 on bills, and 298 on rent\n",
      "Sacha would pay 87 on bills, and 300 on rent\n",
      "Drew would pay 71 on bills, and 300 on rent\n",
      "Tyla would pay 58 on bills, and 204 on rent\n"
     ]
    }
   ],
   "source": [
    "Scenario_Current_10.describe_all_housemates()\n",
    "print('\\n\\n\\n')\n",
    "Scenario_Current_10.print_housemate_by_housemate_nonlinear()"
   ]
  },
  {
   "cell_type": "code",
   "execution_count": 119,
   "metadata": {},
   "outputs": [
    {
     "name": "stdout",
     "output_type": "stream",
     "text": [
      "With these housemates, we would have annual rent takings of 23736 currently\n",
      "Or, with the proposal, 26088\n"
     ]
    },
    {
     "data": {
      "image/png": "[encoded data removed]",
      "text/plain": [
       "<Figure size 432x288 with 1 Axes>"
      ]
     },
     "metadata": {
      "needs_background": "light"
     },
     "output_type": "display_data"
    }
   ],
   "source": [
    "import pandas as pd\n",
    "df = pd.DataFrame({\n",
    "   'Current Outgoings' : [Scenario_Current_9.get_total_outgoings_for_housemate_linear(h) for h in Scenario_Current_9.list_of_housemates],\n",
    "   'Proposed Outgoings' : [Scenario_Proposed_9.get_total_outgoings_for_housemate_nonlinear(h) for h in Scenario_Proposed_9.list_of_housemates],\n",
    "   'Names' : [h.name for h in Scenario_Current_9.list_of_housemates]\n",
    "})\n",
    "tidy = df.melt(id_vars='Names').rename(columns=str.title)\n",
    "seaborn.barplot(x='Names', y='Value', hue='Variable', data=tidy)\n",
    "\n",
    "print(f'With these housemates, we would have annual rent takings of {12 * Scenario_Current_9.get_total_rent_linear()} currently')\n",
    "print(f'Or, with the proposal, {12 * Scenario_Proposed_9.get_total_rent_nonlinear()}')\n",
    "\n"
   ]
  },
  {
   "cell_type": "code",
   "execution_count": 120,
   "metadata": {},
   "outputs": [
    {
     "name": "stdout",
     "output_type": "stream",
     "text": [
      "Blaine would pay 65 on bills, and 233 on rent\n",
      "Andy would pay 65 on bills, and 227 on rent\n",
      "Leblanc would pay 64 on bills, and 204 on rent\n",
      "Freddie would pay 64 on bills, and 204 on rent\n",
      "Moses would pay 64 on bills, and 204 on rent\n",
      "Kenneth would pay 64 on bills, and 204 on rent\n",
      "Yaqub would pay 71 on bills, and 298 on rent\n",
      "Sacha would pay 94 on bills, and 300 on rent\n",
      "Drew would pay 78 on bills, and 300 on rent\n"
     ]
    }
   ],
   "source": [
    "df = pd.DataFrame({\n",
    "   'Current Outgoings' : [Scenario_Current_9.get_total_outgoings_for_housemate_linear(h) for h in Scenario_Current_9.list_of_housemates],\n",
    "   'Proposed Outgoings' : [Scenario_Proposed_9.get_total_outgoings_for_housemate_nonlinear(h) for h in Scenario_Proposed_9.list_of_housemates],\n",
    "   'Names' : [h.name for h in Scenario_Current_9.list_of_housemates]\n",
    "})\n",
    "Scenario_Proposed_9.print_housemate_by_housemate_nonlinear()"
   ]
  },
  {
   "cell_type": "markdown",
   "metadata": {},
   "source": [
    "# Fixed Costs\n",
    "- Currently this is very vague\n",
    "- Some housemates use it, some do not\n",
    "- Main rent policy only refers to tax; not to NI\n",
    "\n",
    "## Proposal: Either \n",
    "### A:\n",
    "Make the fixed costs explicit. They should include:\n",
    "- NI\n",
    "- Student loans\n",
    "- Pension contributions\n",
    "- Ongoing health costs (including therapy)\n",
    "- ... Anything else we want to add\n",
    "\n",
    "### B:\n",
    "We drop this completely from the formula"
   ]
  }
 ],
 "metadata": {
  "kernelspec": {
   "display_name": "Python 3.9.13 ('.venv': venv)",
   "language": "python",
   "name": "python3"
  },
  "language_info": {
   "codemirror_mode": {
    "name": "ipython",
    "version": 3
   },
   "file_extension": ".py",
   "mimetype": "text/x-python",
   "name": "python",
   "nbconvert_exporter": "python",
   "pygments_lexer": "ipython3",
   "version": "3.9.13"
  },
  "orig_nbformat": 4,
  "vscode": {
   "interpreter": {
    "hash": "45da01ca95f83ff87c19cbf0288686f70db4d25aaefe905dd16f0e486059ae2c"
   }
  }
 },
 "nbformat": 4,
 "nbformat_minor": 2
}
